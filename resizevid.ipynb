{
 "cells": [
  {
   "cell_type": "code",
   "execution_count": 1,
   "metadata": {},
   "outputs": [],
   "source": [
    "import cv2\n",
    "\n",
    "def resize_video_to_512(input_path, output_path, fourcc='mp4v'):\n",
    "    # Open input video\n",
    "    cap = cv2.VideoCapture(input_path)\n",
    "    \n",
    "    # Get original FPS (frames per second)\n",
    "    fps = cap.get(cv2.CAP_PROP_FPS)\n",
    "    \n",
    "    # Define the codec and create VideoWriter to save the output\n",
    "    fourcc_code = cv2.VideoWriter_fourcc(*fourcc)\n",
    "    out = cv2.VideoWriter(output_path, fourcc_code, fps, (512, 512))\n",
    "\n",
    "    while True:\n",
    "        ret, frame = cap.read()\n",
    "        if not ret:\n",
    "            break\n",
    "        # Resize frame to 512x512\n",
    "        resized_frame = cv2.resize(frame, (512, 512), interpolation=cv2.INTER_AREA)\n",
    "        out.write(resized_frame)\n",
    "\n",
    "    cap.release()\n",
    "    out.release()\n",
    "\n",
    "# Example usage:\n",
    "resize_video_to_512('test_video2.mp4', 'test_video2.mp4')\n"
   ]
  },
  {
   "cell_type": "code",
   "execution_count": null,
   "metadata": {},
   "outputs": [],
   "source": []
  }
 ],
 "metadata": {
  "kernelspec": {
   "display_name": ".venv",
   "language": "python",
   "name": "python3"
  },
  "language_info": {
   "codemirror_mode": {
    "name": "ipython",
    "version": 3
   },
   "file_extension": ".py",
   "mimetype": "text/x-python",
   "name": "python",
   "nbconvert_exporter": "python",
   "pygments_lexer": "ipython3",
   "version": "3.11.10"
  }
 },
 "nbformat": 4,
 "nbformat_minor": 2
}
