{
 "cells": [
  {
   "cell_type": "code",
   "execution_count": 1,
   "metadata": {},
   "outputs": [],
   "source": [
    "%load_ext autoreload\n",
    "%autoreload 2"
   ]
  },
  {
   "cell_type": "code",
   "execution_count": 12,
   "metadata": {},
   "outputs": [
    {
     "name": "stdout",
     "output_type": "stream",
     "text": [
      "Project root: /home/phigep/fh/face-mask-detection\n",
      "Data directory: /home/phigep/fh/face-mask-detection/data\n"
     ]
    }
   ],
   "source": [
    "import os\n",
    "import sys\n",
    "# Determine the absolute path to your training data folder.\n",
    "project_root = os.path.abspath(\n",
    "    os.path.join(os.path.dirname(__file__) if '__file__' in globals() else os.getcwd(), '..')\n",
    ")\n",
    "\n",
    "# Insert project_root to sys.path if needed.\n",
    "if project_root not in sys.path:\n",
    "    sys.path.insert(0, project_root)\n",
    "\n",
    "# Build the path to the data folder (assuming your data folder is directly under the project root)\n",
    "data_dir = os.path.join(project_root, 'data')\n",
    "\n",
    "print(\"Project root:\", project_root)\n",
    "print(\"Data directory:\", data_dir)\n",
    "\n",
    "from models import get_model, effnetv2b0_base, effnetv2b3_base,train_model\n",
    "\n",
    "from keras.models import Model\n",
    "from keras.preprocessing import image_dataset_from_directory\n",
    "import tensorflow as tf"
   ]
  },
  {
   "cell_type": "code",
   "execution_count": 3,
   "metadata": {},
   "outputs": [],
   "source": [
    "train_dir = os.path.join(data_dir, 'train')\n",
    "test_dir = os.path.join(data_dir, 'test')"
   ]
  },
  {
   "cell_type": "code",
   "execution_count": 4,
   "metadata": {},
   "outputs": [],
   "source": [
    "BATCH_SIZE = 32\n",
    "ORIGINAL_IMAGE_SIZE = (None, None)  # Allow variable sizes\n",
    "TARGET_IMAGE_SIZE = (224, 224)       # EfficientNetV2's expected input size\n",
    "EPOCHS = 25\n",
    "AUTOTUNE = tf.data.AUTOTUNE"
   ]
  },
  {
   "cell_type": "code",
   "execution_count": 5,
   "metadata": {},
   "outputs": [
    {
     "name": "stdout",
     "output_type": "stream",
     "text": [
      "Found 101229 files belonging to 2 classes.\n",
      "Found 17820 files belonging to 2 classes.\n"
     ]
    }
   ],
   "source": [
    "from preprocessing import get_augmented_dataset\n",
    "train_dataset = get_augmented_dataset(train_dir)\n",
    "test_dataset = get_augmented_dataset(test_dir)\n"
   ]
  },
  {
   "cell_type": "code",
   "execution_count": 18,
   "metadata": {},
   "outputs": [],
   "source": [
    "enetb0_model = get_model(effnetv2b0_base,input_dim=(224,224,3), resize_dim=(224,224,3), classes=2,classifier_activation=\"sigmoid\")\n",
    "enetb3_model = get_model(effnetv2b3_base,input_dim=(224,224,3), resize_dim=(224,224,3), classes=2,classifier_activation=\"sigmoid\")\n"
   ]
  },
  {
   "cell_type": "code",
   "execution_count": 20,
   "metadata": {},
   "outputs": [],
   "source": [
    "from keras.optimizers import AdamW\n",
    "optimizer = AdamW(learning_rate=5e-5)"
   ]
  },
  {
   "cell_type": "code",
   "execution_count": 21,
   "metadata": {},
   "outputs": [],
   "source": [
    "enetb0_model.compile(\n",
    "    optimizer=optimizer,\n",
    "    loss='binary_crossentropy',\n",
    "    metrics=['accuracy']\n",
    ")\n",
    "enetb3_model.compile(\n",
    "    optimizer=optimizer,\n",
    "    loss='binary_crossentropy',\n",
    "    metrics=['accuracy']\n",
    ")"
   ]
  },
  {
   "cell_type": "code",
   "execution_count": null,
   "metadata": {},
   "outputs": [
    {
     "name": "stdout",
     "output_type": "stream",
     "text": [
      "Epoch 1/50\n"
     ]
    }
   ],
   "source": [
    "train_model(model=enetb0_model,train_data=train_dataset,val_data=test_dataset,checkpoint_dir=\"./checkpoints/\")"
   ]
  },
  {
   "cell_type": "code",
   "execution_count": null,
   "metadata": {},
   "outputs": [],
   "source": []
  },
  {
   "cell_type": "code",
   "execution_count": null,
   "metadata": {},
   "outputs": [],
   "source": []
  },
  {
   "cell_type": "code",
   "execution_count": null,
   "metadata": {},
   "outputs": [],
   "source": []
  }
 ],
 "metadata": {
  "kernelspec": {
   "display_name": ".venv",
   "language": "python",
   "name": "python3"
  },
  "language_info": {
   "codemirror_mode": {
    "name": "ipython",
    "version": 3
   },
   "file_extension": ".py",
   "mimetype": "text/x-python",
   "name": "python",
   "nbconvert_exporter": "python",
   "pygments_lexer": "ipython3",
   "version": "3.11.10"
  }
 },
 "nbformat": 4,
 "nbformat_minor": 2
}
